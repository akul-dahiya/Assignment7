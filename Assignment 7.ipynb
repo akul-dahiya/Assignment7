{
 "cells": [
  {
   "cell_type": "markdown",
   "id": "2f4e9ea3-9389-4fb6-87f1-31bcb4193565",
   "metadata": {},
   "source": [
    "Q1. What is Abstraction in OOps? Explain with an example.\n",
    "\n",
    "Ans. Abstraction : Abstraction involves showing only the necessary features of an object while hiding the unnecessary details. It defines the behavior and properties that an object can have without exposing its internal implementation.\n",
    "\n",
    "Example:"
   ]
  },
  {
   "cell_type": "code",
   "execution_count": 1,
   "id": "85291886-b84e-4855-afc9-8e9f27b9e187",
   "metadata": {},
   "outputs": [],
   "source": [
    "import abc\n",
    "\n",
    "class shapes:\n",
    "    \n",
    "    @abc.abstractmethod\n",
    "    def area(self):\n",
    "        pass\n",
    "    \n",
    "    \n",
    "    @abc.abstractmethod\n",
    "    def perimeter(self):\n",
    "        pass"
   ]
  },
  {
   "cell_type": "code",
   "execution_count": 2,
   "id": "4386a015-a545-414e-aa4c-5b6fdd213055",
   "metadata": {},
   "outputs": [],
   "source": [
    "class rectangle(shapes):\n",
    "    \n",
    "    def __init__(self , length , width):\n",
    "        self.length = length\n",
    "        self.width  = width\n",
    "    \n",
    "    def area(self):\n",
    "        return self.length*self.width\n",
    "        \n",
    "    def perimeter(self):\n",
    "        return 2*(self.length+self.width)"
   ]
  },
  {
   "cell_type": "code",
   "execution_count": 8,
   "id": "983c9a96-5509-4948-8f28-e9f7ee9af9b9",
   "metadata": {},
   "outputs": [],
   "source": [
    "class circle(shapes):\n",
    "    \n",
    "    def __init__(self , radius):\n",
    "        self.radius = radius\n",
    "        \n",
    "    def area(self):\n",
    "        return 2*3.14*self.radius*self.radius\n",
    "    \n",
    "    def perimeter(self):\n",
    "        return 2*3.14*radius"
   ]
  },
  {
   "cell_type": "code",
   "execution_count": 9,
   "id": "e855063d-38dc-4b73-8fc4-7094b83c51ff",
   "metadata": {},
   "outputs": [],
   "source": [
    "rect = rectangle(4,3)"
   ]
  },
  {
   "cell_type": "code",
   "execution_count": 11,
   "id": "7369c452-ba63-4b08-a264-fb62ce502332",
   "metadata": {},
   "outputs": [
    {
     "data": {
      "text/plain": [
       "12"
      ]
     },
     "execution_count": 11,
     "metadata": {},
     "output_type": "execute_result"
    }
   ],
   "source": [
    "rect.area()"
   ]
  },
  {
   "cell_type": "code",
   "execution_count": 12,
   "id": "935d4047-b7d5-4994-bd7e-14c0de794e8b",
   "metadata": {},
   "outputs": [
    {
     "data": {
      "text/plain": [
       "14"
      ]
     },
     "execution_count": 12,
     "metadata": {},
     "output_type": "execute_result"
    }
   ],
   "source": [
    "rect.perimeter()"
   ]
  },
  {
   "cell_type": "code",
   "execution_count": 13,
   "id": "1c305ad8-71b3-4f4e-a252-e49f284b9ca0",
   "metadata": {},
   "outputs": [],
   "source": [
    "cir = circle(5)"
   ]
  },
  {
   "cell_type": "code",
   "execution_count": 14,
   "id": "76cc9df8-a5fd-4a6f-8c67-484b0e4e80e9",
   "metadata": {},
   "outputs": [
    {
     "data": {
      "text/plain": [
       "157.0"
      ]
     },
     "execution_count": 14,
     "metadata": {},
     "output_type": "execute_result"
    }
   ],
   "source": [
    "cir.area()"
   ]
  },
  {
   "cell_type": "markdown",
   "id": "351f7207-97f0-4680-84d4-6cbe4fb1684d",
   "metadata": {},
   "source": [
    "Q2. Differentiate between Abstraction and Encapsulation. Explain with an example.\n",
    "\n",
    "Ans. Abstraction is a process of hiding the implementation details of a system from the user, and only the function details will be available to the user end. On the other hand, Encapsulation is a method of wrapping up the data and code acting on the data into a single unit. Abstracion helps hide the unwnated details and can be implemented using abstarct classes and interfaces. Encapsulation helps hide the data using a single entity, or using a unit with the help of method that helps protected the information and can be implemented usign acess modifiers like public, private and protected.\n",
    "Example:"
   ]
  },
  {
   "cell_type": "code",
   "execution_count": 4,
   "id": "d15785c8-ce93-48ea-b5e2-563fc7033455",
   "metadata": {},
   "outputs": [],
   "source": [
    "class BankAccount:\n",
    "    def __init__(self, account_number, balance):\n",
    "        self._account_number = account_number  # Encapsulation: Private attribute\n",
    "        self._balance = balance                # Encapsulation: Private attribute\n",
    "        \n",
    "    def deposit(self, amount):\n",
    "        self._balance += amount               # Encapsulation: Controlled access\n",
    "        \n",
    "    def withdraw(self, amount):\n",
    "        if amount <= self._balance:\n",
    "            self._balance -= amount           # Encapsulation: Controlled access\n",
    "        else:\n",
    "            print(\"Insufficient funds\")\n",
    "            \n",
    "    def get_balance(self):\n",
    "        return self._balance                  # Encapsulation: Controlled access\n",
    "\n"
   ]
  },
  {
   "cell_type": "code",
   "execution_count": 5,
   "id": "02d830c5-3caa-40f6-8635-02187e133f0b",
   "metadata": {},
   "outputs": [],
   "source": [
    "# Creating an instance of BankAccount\n",
    "account = BankAccount(\"12345\", 1000)"
   ]
  },
  {
   "cell_type": "code",
   "execution_count": 6,
   "id": "45028669-4a9d-4b5f-8684-0bdbf9dfe5b6",
   "metadata": {},
   "outputs": [
    {
     "name": "stdout",
     "output_type": "stream",
     "text": [
      "Balance: 1200\n"
     ]
    }
   ],
   "source": [
    "# Accessing attributes using controlled methods\n",
    "account.deposit(500)\n",
    "account.withdraw(300)\n",
    "print(\"Balance:\", account.get_balance())     \n"
   ]
  },
  {
   "cell_type": "markdown",
   "id": "6b5d3f17-8cca-4394-aa5f-63fcf5ac388e",
   "metadata": {},
   "source": [
    "In this example, the BankAccount class represents a bank account. The class abstracts the concept of a bank account by providing methods like deposit(), withdraw(), and get_balance(). Users of the class don't need to know how these methods are implemented internally. The attributes _account_number and _balance are encapsulated by using underscores as a naming convention to indicate that they are intended to be private attributes."
   ]
  },
  {
   "cell_type": "markdown",
   "id": "7b8d83e1-d926-40f1-b7d0-b91d21d3e4ea",
   "metadata": {},
   "source": [
    "Q3. What is abc module in python? Why is it used?\n",
    "\n",
    "Ans. The abc module in Python stands for \"Abstract Base Classes.\" It provides mechanisms to define abstract base classes in Python. Abstract base classes are classes that cannot be instantiated themselves but serve as templates for other classes. They define a common interface and set of methods that subclasses are required to implement. The abc module allows you to enforce a certain structure in derived classes, ensuring that they implement specific methods.\n",
    "\n",
    "It is used as a base class for defining other abstract classes. The abstractmethod decorator is also provided by the abc module to indicate methods that must be overridden in subclasses."
   ]
  },
  {
   "cell_type": "markdown",
   "id": "3b0795e4-cc7d-4a99-967f-6ebb518f527c",
   "metadata": {},
   "source": [
    "Q4. How can we achieve data abstraction?\n",
    "\n",
    "Ans. Data abstraction is achieved by using abstract classes and methods. Abstract classes provide a blueprint for creating other classes and define a common interface that derived classes must adhere to. Abstract methods are methods declared in abstract classes that are meant to be overridden by the subclasses, ensuring that specific behavior is implemented in each subclass."
   ]
  },
  {
   "cell_type": "markdown",
   "id": "761acf87-76d7-4828-adb1-f0ee3530679f",
   "metadata": {},
   "source": [
    "Q5. Can we create an instance of an abstract class? Explain your answer.\n",
    "\n",
    "Ans. No, you cannot create an instance of an abstract class. An abstract class is a class that cannot be instantiated directly; it is meant to serve as a template for other classes. Abstract classes are used to define a common interface and structure that derived classes must follow.\n",
    "The reason you cannot create an instance of an abstract class is that abstract classes often contain one or more abstract methods, which are methods without an implementation.\n",
    "\n",
    "Example:"
   ]
  },
  {
   "cell_type": "code",
   "execution_count": 32,
   "id": "8073494c-a212-4758-8a22-eb76cbb506f4",
   "metadata": {},
   "outputs": [
    {
     "name": "stdout",
     "output_type": "stream",
     "text": [
      "Circle Area: 78.53975\n"
     ]
    }
   ],
   "source": [
    "from abc import ABC\n",
    "\n",
    "class Shape(ABC):\n",
    "    @abstractmethod\n",
    "    def area(self):\n",
    "        pass\n",
    "\n",
    "class Circle(Shape):\n",
    "    def __init__(self, radius):\n",
    "        self.radius = radius\n",
    "    \n",
    "    def area(self):\n",
    "        return 3.14159 * self.radius * self.radius\n",
    "\n",
    "# Trying to create an instance of an abstract class\n",
    "# shape = Shape()  # Raises TypeError\n",
    "\n",
    "# Creating an instance of a subclass\n",
    "circle = Circle(5)\n",
    "print(\"Circle Area:\", circle.area())  \n"
   ]
  },
  {
   "cell_type": "code",
   "execution_count": null,
   "id": "0642c364-fc04-40e0-a1b7-0f5900f2d4f4",
   "metadata": {},
   "outputs": [],
   "source": []
  }
 ],
 "metadata": {
  "kernelspec": {
   "display_name": "Python 3 (ipykernel)",
   "language": "python",
   "name": "python3"
  },
  "language_info": {
   "codemirror_mode": {
    "name": "ipython",
    "version": 3
   },
   "file_extension": ".py",
   "mimetype": "text/x-python",
   "name": "python",
   "nbconvert_exporter": "python",
   "pygments_lexer": "ipython3",
   "version": "3.10.8"
  }
 },
 "nbformat": 4,
 "nbformat_minor": 5
}
